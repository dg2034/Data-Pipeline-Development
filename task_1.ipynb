{
 "cells": [
  {
   "cell_type": "markdown",
   "id": "389ad7b1",
   "metadata": {},
   "source": [
    "## Task-1\n",
    "\n",
    "Data Pipeline Development\n",
    "\n"
   ]
  },
  {
   "cell_type": "markdown",
   "id": "65ce4076",
   "metadata": {},
   "source": [
    "#### Step-1\n",
    "\n",
    "Importing necessary libraries."
   ]
  },
  {
   "cell_type": "code",
   "execution_count": 1,
   "id": "147f246d",
   "metadata": {},
   "outputs": [],
   "source": [
    "import pandas as pd\n",
    "from sklearn.preprocessing import StandardScaler, LabelEncoder\n",
    "from sklearn.impute import SimpleImputer"
   ]
  },
  {
   "cell_type": "markdown",
   "id": "d8775a5d",
   "metadata": {},
   "source": [
    "#### Step-2\n",
    "\n",
    "Data Preprocessing and Transformation."
   ]
  },
  {
   "cell_type": "code",
   "execution_count": 2,
   "id": "67e288ce",
   "metadata": {},
   "outputs": [
    {
     "name": "stdout",
     "output_type": "stream",
     "text": [
      "   PassengerId  Survived  Pclass  ...     Fare Cabin  Embarked\n",
      "0            1         0       3  ...   7.2500   NaN         S\n",
      "1            2         1       1  ...  71.2833   C85         C\n",
      "2            3         1       3  ...   7.9250   NaN         S\n",
      "3            4         1       1  ...  53.1000  C123         S\n",
      "4            5         0       3  ...   8.0500   NaN         S\n",
      "\n",
      "[5 rows x 12 columns]\n"
     ]
    }
   ],
   "source": [
    "#Example using Titanic dataset\n",
    "df = pd.read_csv('Titanic-Dataset.csv')    #You can also import any other dataset of your choice\n",
    "print(df.head())\n",
    "\n",
    "#Fill missing values\n",
    "imputer = SimpleImputer(strategy='mean')\n",
    "df['Age'] = imputer.fit_transform(df[['Age']])\n",
    "\n",
    "#Encode catagorical data\n",
    "le = LabelEncoder()\n",
    "df['Sex'] = le.fit_transform(df['Sex'])    # Male=1, Female=0\n",
    "\n",
    "#Feature scaling\n",
    "scaler = StandardScaler()\n",
    "df[['Age', 'Fare']] = scaler.fit_transform(df[['Age', 'Fare']])"
   ]
  },
  {
   "cell_type": "markdown",
   "id": "8178d920",
   "metadata": {},
   "source": [
    "#### Step-3\n",
    "\n",
    "Save the Transformed Data"
   ]
  },
  {
   "cell_type": "code",
   "execution_count": 3,
   "id": "4afe448c",
   "metadata": {},
   "outputs": [],
   "source": [
    "df.to_csv(\"processed_titanic.csv\", index=False)"
   ]
  }
 ],
 "metadata": {
  "kernelspec": {
   "display_name": "Python 3",
   "language": "python",
   "name": "python3"
  },
  "language_info": {
   "codemirror_mode": {
    "name": "ipython",
    "version": 3
   },
   "file_extension": ".py",
   "mimetype": "text/x-python",
   "name": "python",
   "nbconvert_exporter": "python",
   "pygments_lexer": "ipython3",
   "version": "3.12.0"
  }
 },
 "nbformat": 4,
 "nbformat_minor": 5
}
